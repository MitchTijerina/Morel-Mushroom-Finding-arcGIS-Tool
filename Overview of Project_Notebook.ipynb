{
 "cells": [
  {
   "cell_type": "markdown",
   "id": "96ff2760",
   "metadata": {},
   "source": [
    "# Final Project Notebook\n",
    "## Potential Morel Locations Map Analysis\n"
   ]
  },
  {
   "cell_type": "markdown",
   "id": "adf70e8e",
   "metadata": {},
   "source": [
    "### Context for the need of a tool to analyze potential spots to find Morel mushrooms\n",
    "Morel mushrooms are a highly prized edible wild fungi that can be sold for about 100 dollars to restaurants across the USA and world. They have a delicious umami flavor and are highly versatile in the kitchen and many chefs are eager to purchase and cook them.\n",
    "\n",
    "#### Problem and Solution\n",
    "The problem is that as of yet this fungi has never been able to be cultivated domestically, therefore they are only able to be foraged in the wild. They are notoriously difficult to find and have very specific growing conditions. Many foragers ahve specific locations they return to year after year for morels but when someone is in a new location or wants to look in a new area, they are usually at a severe disadvantage and may have difficulty in finding locations to search for potential morels. The most important factors for their growth and distribution were used in this geospatial distribution analysis, that being: 1. Hill slope direction (aspect) 2. Land Use Land Cover ((LULC) they only grow in deciduous forests), 3. Moist soils (near rivers).\n",
    "\n",
    "#### Benefits of Creating Programming Application\n",
    "There are many benefits for creating a programming application to do a geospatial analysis of possible morel mushroom locations. The analysis is centered on National Park/Forest Boundaries, there are dozens of these across the USA and they cover thousands of miles of forest land. It is important to use National parklands due to the fact that it is legal to forage in these national lands, therefore this application could be used across the USA by anyone near a national park. Therefore this is not just a locally interesting and insightful product/application but rather one that can be widely used for professional chefs or for the local forager that wants to prepare a delicious meal for their family table.\n",
    "\n",
    "#### Main Findings of Analysis\n",
    "With this analysis SouthEastern and Southern Slopes that fall within the Wayne National Forest boundaries were considered. Within a 100 meter buffer zone around rivers/streams a weighted sum of LULC of Deciduous forests and slopes with the correct aspect were analyzed. The results render an excellent map that shows a few particular hot spots that would be really excellent for a forager to focus on within the national park. Specifically there appears to be 3 to 4 valleys across the park that pop out as having the best envrionment for Morel Mushrooms to grow, those being: 1. to the north east, directly west of the Burr Oak State Park boundary, 2. directly north east of the town of Nelsonville and north west of the Utah Ridge (this actually is consistent with some local knowledge and tips given by a local expert forager). 3. Directly East of the Utah Ridge and on the SouthEastern most boundary of the National Forest. 4. In the South West portion of the national forest, directly north of the town of Haydenville, along the National Forest Boundary."
   ]
  }
 ],
 "metadata": {
  "kernelspec": {
   "display_name": "Python 3 (ipykernel)",
   "language": "python",
   "name": "python3"
  },
  "language_info": {
   "codemirror_mode": {
    "name": "ipython",
    "version": 3
   },
   "file_extension": ".py",
   "mimetype": "text/x-python",
   "name": "python",
   "nbconvert_exporter": "python",
   "pygments_lexer": "ipython3",
   "version": "3.9.16"
  }
 },
 "nbformat": 4,
 "nbformat_minor": 5
}
